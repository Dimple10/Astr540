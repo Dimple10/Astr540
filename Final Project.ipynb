{
 "cells": [
  {
   "cell_type": "markdown",
   "metadata": {},
   "source": [
    "## **10.5** [Computational] **Frequentist and Bayesian analysis.** \n",
    "In this problem, you will practice solving a rather simple data-fitting problem using several different approaches. Assume the following dataset (xi, yi) \n",
    "\n",
    "$$ y(x = 1) = 2.0 ± 1.0 $$\n",
    "$$ y(x = 2) = 4.0 ± 2.0 $$\n",
    "$$ y(x = 3) = 6.0 ± 3.0 $$\n",
    "$$y(x = 4) = 8.0 ± 4.0, $$\n",
    "\n",
    "where you can assume that these four measurements are independent and\n",
    "identically distributed (iid), and that each comes from a Gaussian distribu-tion. You may also assume that all sources of uncertainty are captured in the statistical errors on the measurements quoted above. Then consider a deterministic model with a single free parameter m, defined as\n",
    "\n",
    "$$y = mx.$$\n",
    "\n",
    "**Your task is to find the best-fit value of m, as well as its 68.3% confidence/credible interval in a frequentist/Bayesian analysis.**\n",
    "\n",
    "**a)** Write down the (Gaussian) likelihood for m. Then find the expression for the maximum-likelihood estimate (MLE), $\\hat{m}$, in terms of x- and y-values ofthe data and errors on the latter, xi, yi and σi. Evaluate this to find $\\hat{m}$ given the data above. [Hint: maximizing L is equivalent to minimizing χ2, and the latter is easier.]\n",
    "Optionally, find also the MLE for the variance of m, and evaluate it.\n",
    "\n",
    "**b) Frequentist analysis**: to evaluate the error in the MLE value, perform a simple Monte-Carlo simulation. Simulate your data: draw values of y from Gaussian normal distributions given the means and errors as given by the data, that is, \n",
    "\n",
    "$$y_i^{sim} ∈ N (y_i, σ_i^2)$$\n",
    "\n",
    "where i ∈ {1, 2, 3, 4} for the four data points. Repeat this some large number of times (say, 10,000), and in each instance calculate the MLE estimate of the parameter, $\\hat{m}^{sim}$. Then evaluate the mean of this distribution $\\hat{m}^{freq}$, and its 68% range. A proper way to do this would be to perform the algorithm described in Fig. 10.4, but I recommend that you use a (possibly slightly inaccurate) shortcut of calculating the p-values of p = 0.16 and p = 0.84 fractions of the volume under the distribution.\n",
    "\n",
    "**c) Bayesian analysis**: Now perform a Bayesian analysis. Assume a flat prior on the parameter of interest, say m ∈[0, 3]. Set up a simple grid over this space, and map out the posterior. Find the best-fit model, and the 68% credible interval in m. Try varying the prior on m, and comment how your results change, and whether that is to be expected or not. \n",
    "\n",
    "If everything goes well, you should be getting a very comparable error from the frequentist and Bayesian analyses, both in agreement with the direct estimator in part a)."
   ]
  },
  {
   "cell_type": "markdown",
   "metadata": {},
   "source": [
    "### Data Visualization"
   ]
  },
  {
   "cell_type": "code",
   "execution_count": 1,
   "metadata": {},
   "outputs": [],
   "source": [
    "import matplotlib.pyplot as plt\n",
    "import numpy as np\n",
    "import scipy.stats as stats\n",
    "from scipy.integrate import quad\n",
    "import statistics\n",
    "from IPython.display import display, Latex"
   ]
  },
  {
   "cell_type": "code",
   "execution_count": 2,
   "metadata": {
    "scrolled": true
   },
   "outputs": [],
   "source": [
    "x = np.array([1,2,3,4])\n",
    "y = np.array([2,4,6,8])\n",
    "sig = np.array([1,2,3,4])"
   ]
  },
  {
   "cell_type": "code",
   "execution_count": 3,
   "metadata": {},
   "outputs": [
    {
     "data": {
      "image/png": "[encoded data removed]",
      "text/plain": [
       "<Figure size 432x288 with 1 Axes>"
      ]
     },
     "metadata": {
      "needs_background": "light"
     },
     "output_type": "display_data"
    }
   ],
   "source": [
    "plt.title('Given Data')\n",
    "plt.errorbar(x,y,yerr=sig,ecolor='orange', label='data')\n",
    "plt.xlabel('X')\n",
    "plt.ylabel('Y')\n",
    "plt.show()"
   ]
  },
  {
   "cell_type": "markdown",
   "metadata": {},
   "source": [
    "## a) MLE "
   ]
  },
  {
   "cell_type": "markdown",
   "metadata": {},
   "source": [
    "**Calculating Maximum Likelihood Estimate value by minimizing χ2**\n",
    "\n",
    "$$\\mathcal{L} = \\prod_{i} \\dfrac{1}{\\sqrt{2\\pi\\sigma_i}} . \\mathrm{e}^{\\dfrac{-(y_i-mx_i)^2}{2\\sigma_i^2}} $$\n",
    "\n",
    "\n",
    "$$\\chi^2 = \\sum_{i}\\dfrac{(y_i-mx_i)^2}{\\sigma_i^2}$$\n",
    "\n",
    "Minimizing $\\chi^2$ with respect to m to get MLE $\\hat{m}$:\n",
    "$$\\frac{d}{dm}\\chi^2 = 0$$\n",
    "\n",
    "$\\Rightarrow$ $$ -2\\sum_{i} \\frac{x_i(y_i-\\hat{m}x_i)}{\\sigma_i^2} = 0 $$\n",
    "\n",
    "Splitting the sum across the two terms,\n",
    "\n",
    "$$\\sum_{i} \\frac{x_iy_i}{\\sigma_i^2} - \\hat{m} \\sum_{i} \\frac{x_i^2}{\\sigma_i^2} = 0 $$\n",
    "\n",
    "Isolating for $\\hat{m}$, we get the form of the MLE:\n",
    "\n",
    "$$ \\hat{m} = \\cfrac{\\sum_{i}\\frac{x_iy_i}{\\sigma_i^2}}{\\sum_{i}\\frac{x_i^2}{\\sigma_i^2}}$$\n",
    "\n",
    "Below, I solve for the given MLE form for our data set above over i ∈ {1, 2, 3, 4}"
   ]
  },
  {
   "cell_type": "code",
   "execution_count": 4,
   "metadata": {
    "scrolled": true
   },
   "outputs": [
    {
     "name": "stdout",
     "output_type": "stream",
     "text": [
      "2.0\n"
     ]
    }
   ],
   "source": [
    "n = (x*y/(sig)**2) #Numerator above\n",
    "d = (x**2/sig**2) #Denominator above\n",
    "m_hat = n.sum()/d.sum()\n",
    "print(m_hat)"
   ]
  },
  {
   "cell_type": "markdown",
   "metadata": {},
   "source": [
    "The $\\hat{m}$ value from the given data is 2.0"
   ]
  },
  {
   "cell_type": "markdown",
   "metadata": {},
   "source": [
    "## b) Frequentist Analysis "
   ]
  },
  {
   "cell_type": "markdown",
   "metadata": {},
   "source": [
    "### Monte Carlo Simulation\n",
    "$$y_i^{sim} ∈ N (y_i, σ_i^2),$$ \n",
    "\n",
    "To simulate data, for each of the four data points I draw a random value of $y_i^{sim}$ given $y_i$ and $\\sigma_i^2$ to calculate the MLE $\\hat{m}$ in part **a)**\n",
    "\n",
    "I repeat this 10,000 times to get a set of $\\hat{m}$ values on which we perform Frequentist Analysis"
   ]
  },
  {
   "cell_type": "code",
   "execution_count": 9,
   "metadata": {},
   "outputs": [],
   "source": [
    "m_hist = []\n",
    "for _ in range(10000):\n",
    "    y_freq = np.random.normal(y, sig)\n",
    "    n_freq = (x*y_freq/(sig)**2)\n",
    "    d_freq = (x**2/sig**2)\n",
    "    m_freq = n_freq.sum()/d_freq.sum()\n",
    "    m_hist.append(m_freq)\n"
   ]
  },
  {
   "cell_type": "code",
   "execution_count": 10,
   "metadata": {},
   "outputs": [
    {
     "data": {
      "text/latex": [
       "$\\hat m^{freq}$ for 10,000 draws is 2.00387"
      ],
      "text/plain": [
       "<IPython.core.display.Latex object>"
      ]
     },
     "metadata": {},
     "output_type": "display_data"
    }
   ],
   "source": [
    "display(Latex(r'$\\hat m^{freq}$ for 10,000 draws is '+str(round(np.mean(m_hist), 5))))"
   ]
  },
  {
   "cell_type": "code",
   "execution_count": 11,
   "metadata": {},
   "outputs": [
    {
     "data": {
      "text/latex": [
       "The error or the $1 \\sigma$ value on the $\\hat{m}^{freq}$ value is 0.4979"
      ],
      "text/plain": [
       "<IPython.core.display.Latex object>"
      ]
     },
     "metadata": {},
     "output_type": "display_data"
    }
   ],
   "source": [
    "display(Latex(r'The error or the $1 \\sigma$ value on the $\\hat{m}^{freq}$ value is '+str(round(np.std(m_hist), 5))))"
   ]
  },
  {
   "cell_type": "markdown",
   "metadata": {},
   "source": [
    "#### Confidence interval using 1 std deviation \n",
    "Calculating the 68% Confidence interval using 1 std deviation  \n",
    "The vertical lines represent the 1σ interval from the mean calculated"
   ]
  },
  {
   "cell_type": "code",
   "execution_count": 12,
   "metadata": {},
   "outputs": [
    {
     "data": {
      "image/png": "[encoded data removed]",
      "text/plain": [
       "<Figure size 432x288 with 1 Axes>"
      ]
     },
     "metadata": {
      "needs_background": "light"
     },
     "output_type": "display_data"
    },
    {
     "name": "stdout",
     "output_type": "stream",
     "text": [
      "68% Confidence Interval: ( 1.50596 ,  2.50177 )\n",
      "1σ with Std deviation:  0.4979\n"
     ]
    }
   ],
   "source": [
    "n, bins, _ = plt.hist(m_hist, 50, density='true')\n",
    "plt.title('$\\hat{m}^{sim}$ Histogram with 68% Confidence interval')\n",
    "plt.vlines([np.mean(m_hist)-np.std(m_hist), np.mean(m_hist)+np.std(m_hist)], 0, 0.84)\n",
    "x1 = np.mean(m_hist)-np.std(m_hist)\n",
    "x2 = np.mean(m_hist)+np.std(m_hist)\n",
    "plt.xlabel('$\\hat{m}^{sim}$')\n",
    "plt.ylabel('Frequency')\n",
    "plt.show()\n",
    "print('68% Confidence Interval: (', round(x1,5),', ', round(x2,5), ')')\n",
    "print('1\\u03C3 with Std deviation: ', str(round(np.std(m_hist), 5)))"
   ]
  },
  {
   "cell_type": "markdown",
   "metadata": {},
   "source": [
    "#### Confidence interval using statistics package"
   ]
  },
  {
   "cell_type": "code",
   "execution_count": 15,
   "metadata": {},
   "outputs": [],
   "source": [
    "confidence = 0.68\n",
    "h = stats.norm.interval(confidence, loc=np.mean(m_hist), scale=statistics.stdev(m_hist))"
   ]
  },
  {
   "cell_type": "code",
   "execution_count": 16,
   "metadata": {},
   "outputs": [
    {
     "data": {
      "image/png": "[encoded data removed]",
      "text/plain": [
       "<Figure size 432x288 with 1 Axes>"
      ]
     },
     "metadata": {
      "needs_background": "light"
     },
     "output_type": "display_data"
    },
    {
     "name": "stdout",
     "output_type": "stream",
     "text": [
      "68% Confidence Interval with stats pkg:  (1.5087, 2.49903)\n",
      "1σ with stats pkg:  0.49517\n"
     ]
    }
   ],
   "source": [
    "plt.hist(m_hist, 50, density='true')\n",
    "plt.title('$\\hat{m}^{sim}$ with 68% Confidence interval')\n",
    "plt.vlines(h, 0, 0.82)\n",
    "plt.xlabel('$\\hat{m}^{sim}$')\n",
    "plt.ylabel('Frequency')\n",
    "plt.show()\n",
    "print('68% Confidence Interval with stats pkg: ', tuple(map(lambda x: round(x, 5), h)))\n",
    "print('1\\u03C3 with stats pkg: ', round((h[1]-h[0])/2, 5))"
   ]
  },
  {
   "cell_type": "markdown",
   "metadata": {},
   "source": [
    "The 1$\\sigma$ value through statistics package and the std. deviation method are as follows:\n",
    "\n",
    "$$Std\\,Deviation\\,1\\sigma = 0.4979; \\quad Statistics\\,1\\sigma = 0.49517 $$\n",
    "\n",
    "These two are comparable, so going forward, I stick to the std deviation $\\sigma$ value for comparison"
   ]
  },
  {
   "cell_type": "markdown",
   "metadata": {},
   "source": [
    "## c) Bayesian Analysis"
   ]
  },
  {
   "cell_type": "markdown",
   "metadata": {},
   "source": [
    "In the Bayesian Analysis step, I use the functions to calculate the normalized likelihoods and posteriors in the manner below for m $\\in$ [0,3] \n",
    "\n",
    "$$\\mathcal{L}(\\mathcal{D}| M) = \\mathcal{L}(\\mathcal{m}) = \\prod_{i} \\mathrm{e}^{\\dfrac{-(y_i-mx_i)^2}{2\\sigma_i^2}} $$\n",
    "\n",
    "normalized by integrating from 0,3 and setting that integral to 1\n",
    "\n",
    "$$N\\int_0^3 \\mathcal{L}(\\mathcal{m})\\: \\mathrm{d}m = 1$$\n",
    "\n",
    "$$ N = \\cfrac{1}{\\int_0^3 \\mathcal{L}(\\mathcal{m})\\: \\mathrm{d}m} $$\n",
    "\n",
    "The posterior_func takes in Likelihood and prior(set manually) to give the posterior distribution that is normalized by setting its integral from 0,3 to 1\n",
    "\n",
    "\n",
    "$$\\mathcal{P}(M| \\mathcal{D}) = \\mathcal{L}(\\mathcal{D}| M)\\, x\\, \\mathcal{P}(\\textbf{p}\\,| M)$$\n",
    "\n",
    "where $\\mathcal{P}(\\textbf{p}\\,| M)$ is the prior\n",
    "\n",
    "To normalize we use a similar method as the likelihood, \n",
    "\n",
    "$$ N = \\cfrac{1}{\\int_0^3 \\mathcal{P}(\\mathcal{m}, prior)\\: \\mathrm{d}m} $$"
   ]
  },
  {
   "cell_type": "code",
   "execution_count": 17,
   "metadata": {},
   "outputs": [],
   "source": [
    "def unnorm_likelihood(m):\n",
    "    L=1.0\n",
    "    for i in range(4):\n",
    "        L *= np.exp(-1/2*(y[i] - m*x[i])**2/sig[i]**2) \n",
    "    return L #/1.2247613813039187 #Normalized with constant found below"
   ]
  },
  {
   "cell_type": "markdown",
   "metadata": {},
   "source": [
    "Calculating the normalization constant below"
   ]
  },
  {
   "cell_type": "code",
   "execution_count": 18,
   "metadata": {},
   "outputs": [],
   "source": [
    "def likeli_norm(m):\n",
    "    return quad(unnorm_likelihood,0,3)"
   ]
  },
  {
   "cell_type": "markdown",
   "metadata": {},
   "source": [
    "Normalized Likelihood"
   ]
  },
  {
   "cell_type": "code",
   "execution_count": 19,
   "metadata": {},
   "outputs": [],
   "source": [
    "def likelihood(m):\n",
    "    return unnorm_likelihood(m)/likeli_norm(m)[0]"
   ]
  },
  {
   "cell_type": "code",
   "execution_count": 20,
   "metadata": {},
   "outputs": [
    {
     "data": {
      "text/latex": [
       "$\\mathcal{L}(m|3)$ = 0.1104993064792185"
      ],
      "text/plain": [
       "<IPython.core.display.Latex object>"
      ]
     },
     "metadata": {},
     "output_type": "display_data"
    }
   ],
   "source": [
    "display(Latex((r'$\\mathcal{L}(m|3)$ = ' + str(likelihood(3)))))"
   ]
  },
  {
   "cell_type": "code",
   "execution_count": 21,
   "metadata": {},
   "outputs": [
    {
     "data": {
      "text/latex": [
       "$\\mathcal{L}(m|2)$ = 0.8164855744678765"
      ],
      "text/plain": [
       "<IPython.core.display.Latex object>"
      ]
     },
     "metadata": {},
     "output_type": "display_data"
    }
   ],
   "source": [
    "display(Latex((r'$\\mathcal{L}(m|2)$ = ' + str(likelihood(2)))))"
   ]
  },
  {
   "cell_type": "markdown",
   "metadata": {},
   "source": [
    "#### Posterior from Likelihood, assuming a flat prior"
   ]
  },
  {
   "cell_type": "code",
   "execution_count": 22,
   "metadata": {},
   "outputs": [],
   "source": [
    "def posterior_func(m, prior):\n",
    "    return likelihood(m)*prior"
   ]
  },
  {
   "cell_type": "code",
   "execution_count": 23,
   "metadata": {},
   "outputs": [],
   "source": [
    "def normalization(m,prior):\n",
    "    normal = quad(lambda m: posterior_func(m, prior),0,3)\n",
    "    return normal"
   ]
  },
  {
   "cell_type": "code",
   "execution_count": 24,
   "metadata": {},
   "outputs": [],
   "source": [
    "def normal_posterior(m,prior):\n",
    "    return posterior_func(m,prior)/normalization(m,prior)[0]"
   ]
  },
  {
   "cell_type": "code",
   "execution_count": 25,
   "metadata": {},
   "outputs": [],
   "source": [
    "m = np.arange(0,3.1,0.1)\n",
    "prior = 1\n",
    "posterior = normal_posterior(m, prior)"
   ]
  },
  {
   "cell_type": "code",
   "execution_count": 26,
   "metadata": {
    "scrolled": true
   },
   "outputs": [
    {
     "data": {
      "image/png": "[encoded data removed]",
      "text/plain": [
       "<Figure size 432x288 with 1 Axes>"
      ]
     },
     "metadata": {
      "needs_background": "light"
     },
     "output_type": "display_data"
    }
   ],
   "source": [
    "plt.plot(m, posterior)\n",
    "plt.title('Posterior vs $\\mathcal{m}$')\n",
    "plt.xlabel('$\\mathcal{m}$')\n",
    "plt.ylabel('Posterior')\n",
    "plt.show()"
   ]
  },
  {
   "cell_type": "code",
   "execution_count": 27,
   "metadata": {},
   "outputs": [
    {
     "data": {
      "text/latex": [
       "Best fit value of $\\mathcal{m}$ from bayesian analysis is 2.0 with posterior probablity = 0.81649"
      ],
      "text/plain": [
       "<IPython.core.display.Latex object>"
      ]
     },
     "metadata": {},
     "output_type": "display_data"
    }
   ],
   "source": [
    "display(Latex(r'Best fit value of $\\mathcal{m}$ from bayesian analysis is '+str(round(m[np.argmax(posterior)], 5)) + ' with posterior probablity = ' + str(round(np.max(posterior), 5))))\n"
   ]
  },
  {
   "cell_type": "markdown",
   "metadata": {},
   "source": [
    "**68% Confidence interval**"
   ]
  },
  {
   "cell_type": "markdown",
   "metadata": {},
   "source": [
    "##### The upper 68% bound is found by integrating out from the peak m value to some point to include 34% of the area"
   ]
  },
  {
   "cell_type": "markdown",
   "metadata": {},
   "source": [
    "#### Upper Bound"
   ]
  },
  {
   "cell_type": "code",
   "execution_count": 28,
   "metadata": {},
   "outputs": [
    {
     "data": {
      "text/plain": [
       "(0.34000221041003104, 3.774782824206635e-15)"
      ]
     },
     "execution_count": 28,
     "metadata": {},
     "output_type": "execute_result"
    }
   ],
   "source": [
    "upper_val = 2.48156 #Found through trial and error \n",
    "up_interval_val=quad(lambda m: normal_posterior(m,prior), 2,upper_val)\n",
    "up_interval_val "
   ]
  },
  {
   "cell_type": "markdown",
   "metadata": {},
   "source": [
    "#### Lower Bound"
   ]
  },
  {
   "cell_type": "code",
   "execution_count": 29,
   "metadata": {},
   "outputs": [],
   "source": [
    "lower_val = 2-(upper_val-2)"
   ]
  },
  {
   "cell_type": "code",
   "execution_count": 30,
   "metadata": {},
   "outputs": [
    {
     "data": {
      "text/plain": [
       "(0.3400022104100311, 3.774782824206636e-15)"
      ]
     },
     "execution_count": 30,
     "metadata": {},
     "output_type": "execute_result"
    }
   ],
   "source": [
    "# lower_val = 1.51844\n",
    "down_interval_val=quad(lambda m: normal_posterior(m,prior), lower_val,2)\n",
    "down_interval_val"
   ]
  },
  {
   "cell_type": "markdown",
   "metadata": {},
   "source": [
    "#### Validating Interval"
   ]
  },
  {
   "cell_type": "code",
   "execution_count": 31,
   "metadata": {},
   "outputs": [],
   "source": [
    "interval=(lower_val,upper_val)"
   ]
  },
  {
   "cell_type": "code",
   "execution_count": 32,
   "metadata": {},
   "outputs": [
    {
     "data": {
      "text/plain": [
       "(0.6800044208200621, 7.54956564841327e-15)"
      ]
     },
     "execution_count": 32,
     "metadata": {},
     "output_type": "execute_result"
    }
   ],
   "source": [
    "conf = quad(lambda m: normal_posterior(m,prior), *interval)\n",
    "conf"
   ]
  },
  {
   "cell_type": "markdown",
   "metadata": {},
   "source": [
    "###### Bayesian Analysis: posterior with 68% confidence interval represented with the vertical lines"
   ]
  },
  {
   "cell_type": "code",
   "execution_count": 33,
   "metadata": {
    "scrolled": true
   },
   "outputs": [
    {
     "data": {
      "image/png": "[encoded data removed]",
      "text/plain": [
       "<Figure size 432x288 with 1 Axes>"
      ]
     },
     "metadata": {
      "needs_background": "light"
     },
     "output_type": "display_data"
    },
    {
     "name": "stdout",
     "output_type": "stream",
     "text": [
      "68% Credible Interval:  (1.51844, 2.48156)\n",
      "1σ:  0.48156\n"
     ]
    }
   ],
   "source": [
    "m = np.arange(0, 3.1, 0.1)\n",
    "plt.plot(m, posterior)\n",
    "plt.vlines(interval, 0, 0.8)\n",
    "plt.title('Posterior vs $\\mathcal{m}$ with 68% Credible interval')\n",
    "plt.xlabel('$\\mathcal{m}$')\n",
    "plt.ylabel('Posterior')\n",
    "plt.show()\n",
    "\n",
    "print('68% Credible Interval: ', tuple(map(lambda x: round(x, 5), interval)))\n",
    "print('1\\u03C3: ', round((interval[1]-interval[0])/2, 5))"
   ]
  },
  {
   "cell_type": "markdown",
   "metadata": {},
   "source": [
    "#### Varying the prior"
   ]
  },
  {
   "cell_type": "code",
   "execution_count": 34,
   "metadata": {},
   "outputs": [
    {
     "data": {
      "image/png": "[encoded data removed]",
      "text/plain": [
       "<Figure size 432x288 with 1 Axes>"
      ]
     },
     "metadata": {
      "needs_background": "light"
     },
     "output_type": "display_data"
    },
    {
     "name": "stdout",
     "output_type": "stream",
     "text": [
      "Varying the prior has no change to normalized posterior but changes the unnormalized one scaling as the prior\n"
     ]
    }
   ],
   "source": [
    "plt.plot(m, normal_posterior(m,0.5), label ='Prior with normalization')\n",
    "plt.plot(m, posterior_func(m,0.5), label='Unnormalized')\n",
    "plt.legend()\n",
    "plt.show()\n",
    "\n",
    "print('Varying the prior has no change to normalized posterior but changes the unnormalized one scaling as the prior')"
   ]
  },
  {
   "cell_type": "markdown",
   "metadata": {},
   "source": [
    "## Final Comparison\n",
    "$$ \\,\\,$$\n",
    "$\\text{Maximum Likelihood Estimate from Data:}$\n",
    "\n",
    "$$\\hat{m}= 2.0$$\n",
    "\n",
    "$\\text{Frequentist Analysis:}$ \n",
    "\n",
    "$$\\hat{m}^{freq} = 2.00387 \\,\\pm\\, 0.4979$$\n",
    "\n",
    "$$68\\%\\: Confidence\\: Interval:\\: ( 1.50596 ,  2.50177 )$$\n",
    "\n",
    "$\\text{Bayesian Analysis:}$ \n",
    "\n",
    "$$\\hat{m} = 2.0 \\,\\pm\\, 0.48156$$\n",
    "\n",
    "$$68\\%\\: Credible\\: Interval:\\:  (1.51844, 2.48156)$$\n",
    "\n",
    "\n",
    "\n",
    "The errors from Frequentist Analysis and Bayesian Analysis are very close and agree with the direct estimate for $\\hat{m} = 2.0 $ "
   ]
  },
  {
   "cell_type": "code",
   "execution_count": null,
   "metadata": {},
   "outputs": [],
   "source": []
  }
 ],
 "metadata": {
  "kernelspec": {
   "display_name": "Python 3",
   "language": "python",
   "name": "python3"
  },
  "language_info": {
   "codemirror_mode": {
    "name": "ipython",
    "version": 3
   },
   "file_extension": ".py",
   "mimetype": "text/x-python",
   "name": "python",
   "nbconvert_exporter": "python",
   "pygments_lexer": "ipython3",
   "version": "3.8.2"
  }
 },
 "nbformat": 4,
 "nbformat_minor": 4
}
