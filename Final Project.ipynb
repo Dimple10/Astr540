{
 "cells": [
  {
   "cell_type": "markdown",
   "metadata": {},
   "source": [
    "## **10.5** [Computational] **Frequentist and Bayesian analysis.** \n",
    "In this problem, you will practice solving a rather simple data-fitting problem using several different approaches. Assume the following dataset (xi, yi)\n",
    "                                    \n",
    "                                    y(x = 1) = 2.0 ± 1.0\n",
    "                                    y(x = 2) = 4.0 ± 2.0\n",
    "                                    y(x = 3) = 6.0 ± 3.0\n",
    "                                    y(x = 4) = 8.0 ± 4.0,\n",
    "\n",
    "where you can assume that these four measurements are independent and\n",
    "identically distributed (iid), and that each comes from a Gaussian distribu-tion. You may also assume that all sources of uncertainty are captured in the statistical errors on the measurements quoted above. Then consider a deterministic model with a single free parameter m, defined as\n",
    "\n",
    "                                            y = mx.\n",
    "\n",
    "**Your task is to find the best-fit value of m, as well as its 68.3% confidence/credible interval in a frequentist/Bayesian analysis.**\n",
    "\n",
    "**a)** Write down the (Gaussian) likelihood for m. Then find the expression for the maximum-likelihood estimate (MLE), $\\hat{m}$, in terms of x- and y-values ofthe data and errors on the latter, xi, yi and σi. Evaluate this to find $\\hat{m}$ given the data above. [Hint: maximizing L is equivalent to minimizing χ2, and the latter is easier.]\n",
    "Optionally, find also the MLE for the variance of m, and evaluate it.\n",
    "\n",
    "**b) Frequentist analysis**: to evaluate the error in the MLE value, perform a simple Monte-Carlo simulation. Simulate your data: draw values of y from Gaussian normal distributions given the means and errors as given by the data, that is, $$y_i^{sim} ∈ N (y_i, σ_i^2)$$\n",
    "where i ∈ {1, 2, 3, 4} for the four data points. Repeat this some large number of times (say, 10,000), and in each instance calculate the MLE estimate of the parameter, $\\hat{m}^{sim}$. Then evaluate the mean of this distribution $\\hat{m}^{freq}$, and its 68% range. A proper way to do this would be to perform the algorithm described in Fig. 10.4, but I recommend that you use a (possibly slightly inaccurate) shortcut of calculating the p-values of p = 0.16 and p = 0.84 fractions of the volume under the distribution.\n",
    "\n",
    "**c) Bayesian analysis**: Now perform a Bayesian analysis. Assume a flat prior on the parameter of interest, say m ∈[0, 3]. Set up a simple grid over this space, and map out the posterior. Find the best-fit model, and the 68% credible interval in m. Try varying the prior on m, and comment how your results change, and whether that is to be expected or not. If everything goes well, you should be getting a very comparable error from the frequentist and Bayesian analyses, both in agreement with the direct estimator in part a)."
   ]
  },
  {
   "cell_type": "markdown",
   "metadata": {},
   "source": [
    "## a) MLE "
   ]
  },
  {
   "cell_type": "markdown",
   "metadata": {},
   "source": [
    "### Data Visualization"
   ]
  },
  {
   "cell_type": "code",
   "execution_count": 616,
   "metadata": {},
   "outputs": [],
   "source": [
    "import matplotlib.pyplot as plt\n",
    "import numpy as np\n",
    "import scipy.stats as stats\n",
    "from scipy.integrate import quad\n",
    "import statistics\n",
    "from IPython.display import display, Latex"
   ]
  },
  {
   "cell_type": "code",
   "execution_count": 521,
   "metadata": {
    "scrolled": true
   },
   "outputs": [],
   "source": [
    "x = np.array([1,2,3,4])\n",
    "y = np.array([2,4,6,8])\n",
    "sig = np.array([1,2,3,4])"
   ]
  },
  {
   "cell_type": "code",
   "execution_count": 557,
   "metadata": {},
   "outputs": [
    {
     "data": {
      "image/png": "[encoded data removed]",
      "text/plain": [
       "<Figure size 432x288 with 1 Axes>"
      ]
     },
     "metadata": {
      "needs_background": "light"
     },
     "output_type": "display_data"
    }
   ],
   "source": [
    "plt.title('Given Data')\n",
    "plt.errorbar(x,y,yerr=sig,ecolor='orange', label='data')\n",
    "# plt.legend(loc='upper left')\n",
    "plt.xlabel('X')\n",
    "plt.ylabel('Y')\n",
    "plt.show()"
   ]
  },
  {
   "cell_type": "markdown",
   "metadata": {},
   "source": [
    "**Calculating Maximum Likelihood Estimate value by minimizing χ2**\n",
    "\n",
    "$$\\mathcal{L} = \\prod_{i} \\dfrac{1}{\\sqrt{2\\pi\\sigma_i}} * \\mathrm{e}^{\\dfrac{-(y_i-mx_i)^2}{2\\sigma_i^2}} $$\n",
    "\n",
    "\n",
    "$$\\chi^2 = \\sum_{i}\\dfrac{(y_i-mx_i)^2}{\\sigma_i^2}$$\n",
    "\n",
    "Minimizing $\\chi^2$ with respect to m to get MLE $\\hat{m}$:\n",
    "$$\\frac{d}{dm}\\chi^2 = 0$$\n",
    "\n",
    "$\\Rightarrow$ $$ -2\\sum_{i} \\frac{x_i(y_i-\\hat{m}x_i)}{\\sigma_i^2} = 0 $$\n",
    "\n",
    "Splitting the sum across the two terms,\n",
    "\n",
    "$$\\sum_{i} \\frac{x_iy_i}{\\sigma_i^2} - \\hat{m} \\sum_{i} \\frac{x_i^2}{\\sigma_i^2} = 0 $$\n",
    "\n",
    "Isolating for $\\hat{m}$, we get the form of the MLE:\n",
    "\n",
    "$$ \\hat{m} = \\cfrac{\\sum_{i}\\frac{x_iy_i}{\\sigma_i^2}}{\\sum_{i}\\frac{x_i^2}{\\sigma_i^2}}$$\n",
    "\n",
    "Below, I solve for the given MLE form for our data set above over i ∈ {1, 2, 3, 4}"
   ]
  },
  {
   "cell_type": "code",
   "execution_count": 519,
   "metadata": {
    "scrolled": true
   },
   "outputs": [
    {
     "name": "stdout",
     "output_type": "stream",
     "text": [
      "2.0\n"
     ]
    }
   ],
   "source": [
    "n = (x*y/(sig)**2) #Numerator above\n",
    "d = (x**2/sig**2) #Denominator above\n",
    "m_hat = n.sum()/d.sum()\n",
    "print(m_hat)"
   ]
  },
  {
   "cell_type": "markdown",
   "metadata": {},
   "source": [
    "## b) Frequentist Analysis "
   ]
  },
  {
   "cell_type": "markdown",
   "metadata": {},
   "source": [
    "### Monte Carlo Simulation\n",
    "$$y_i^{sim} ∈ N (y_i, σ_i^2),$$ \n",
    "\n",
    "To simulate data, for each of the four data points I draw a random value of $y_i^{sim}$ given $y_i$ and $\\sigma_i^2$ to calculate the MLE $\\hat{m}$ in part **a)**\n",
    "\n",
    "I repeat this 10,000 times to get a set of $\\hat{m}$ values on which we perform Frequentist Analysis"
   ]
  },
  {
   "cell_type": "code",
   "execution_count": 526,
   "metadata": {},
   "outputs": [],
   "source": [
    "m_hist = []\n",
    "for _ in range(10000):\n",
    "    y_freq = np.random.normal(y, sig)\n",
    "    n_freq = (x*y_freq/(sig)**2)\n",
    "    d_freq = (x**2/sig**2)\n",
    "    m_freq = n_freq.sum()/d_freq.sum()\n",
    "    m_hist.append(m_freq)\n"
   ]
  },
  {
   "cell_type": "code",
   "execution_count": 615,
   "metadata": {},
   "outputs": [
    {
     "data": {
      "text/latex": [
       "$\\hat m^{freq}$ for 10,000 draws is 2.00112"
      ],
      "text/plain": [
       "<IPython.core.display.Latex object>"
      ]
     },
     "metadata": {},
     "output_type": "display_data"
    }
   ],
   "source": [
    "display(Latex(r'$\\hat m^{freq}$ for 10,000 draws is '+str(round(np.mean(m_hist), 5))))"
   ]
  },
  {
   "cell_type": "code",
   "execution_count": 617,
   "metadata": {},
   "outputs": [
    {
     "data": {
      "text/latex": [
       "The error or the $1 \\sigma$ value on the $\\hat{m}^{freq}$ value is 0.49899"
      ],
      "text/plain": [
       "<IPython.core.display.Latex object>"
      ]
     },
     "metadata": {},
     "output_type": "display_data"
    }
   ],
   "source": [
    "display(Latex(r'The error or the $1 \\sigma$ value on the $\\hat{m}^{freq}$ value is '+str(round(np.std(m_hist), 5))))"
   ]
  },
  {
   "cell_type": "markdown",
   "metadata": {},
   "source": [
    "#### Confidence interval using 1 std deviation \n",
    "Calculating the 68% Confidence interval using 1 std deviation  \n",
    "The vertical lines represent the 1σ interval from the mean calculated"
   ]
  },
  {
   "cell_type": "code",
   "execution_count": 618,
   "metadata": {},
   "outputs": [
    {
     "data": {
      "image/png": "[encoded data removed]",
      "text/plain": [
       "<Figure size 432x288 with 1 Axes>"
      ]
     },
     "metadata": {
      "needs_background": "light"
     },
     "output_type": "display_data"
    },
    {
     "name": "stdout",
     "output_type": "stream",
     "text": [
      "68% Confidence Interval: ( 1.50212 ,  2.50011 )\n"
     ]
    }
   ],
   "source": [
    "n, bins, _ = plt.hist(m_hist, 50, density='true')\n",
    "plt.title('$\\hat{m}^{sim}$ Histogram with 68% Confidence interval')\n",
    "plt.vlines([np.mean(m_hist)-np.std(m_hist), np.mean(m_hist)+np.std(m_hist)], 0, 0.84)\n",
    "x1 = np.mean(m_hist)-np.std(m_hist)\n",
    "x2 = np.mean(m_hist)+np.std(m_hist)\n",
    "plt.xlabel('$\\hat{m}^{sim}$')\n",
    "plt.ylabel('Frequency')\n",
    "plt.show()\n",
    "print('68% Confidence Interval: (', round(x1,5),', ', round(x2,5), ')')"
   ]
  },
  {
   "cell_type": "markdown",
   "metadata": {},
   "source": [
    "#### Confidence interval using statistics package"
   ]
  },
  {
   "cell_type": "code",
   "execution_count": 571,
   "metadata": {},
   "outputs": [],
   "source": [
    "confidence = 0.68\n",
    "h = stats.norm.interval(confidence, loc=np.mean(m_hist), scale=statistics.stdev(m_hist))"
   ]
  },
  {
   "cell_type": "code",
   "execution_count": 619,
   "metadata": {},
   "outputs": [
    {
     "data": {
      "image/png": "[encoded data removed]",
      "text/plain": [
       "<Figure size 432x288 with 1 Axes>"
      ]
     },
     "metadata": {
      "needs_background": "light"
     },
     "output_type": "display_data"
    },
    {
     "name": "stdout",
     "output_type": "stream",
     "text": [
      "68% Confidence Interval with stats pkg:  (1.50487, 2.49737)\n",
      "1σ with stats pkg:  0.49625\n"
     ]
    }
   ],
   "source": [
    "plt.hist(m_hist, 50, density='true')\n",
    "plt.title('$\\hat{m}^{sim}$ with 68% Confidence interval')\n",
    "plt.vlines(h, 0, 0.82)\n",
    "plt.xlabel('$\\hat{m}^{sim}$')\n",
    "plt.ylabel('Frequency')\n",
    "plt.show()\n",
    "print('68% Confidence Interval with stats pkg: ', tuple(map(lambda x: round(x, 5), h)))\n",
    "print('1\\u03C3 with stats pkg: ', round((h[1]-h[0])/2, 5))"
   ]
  },
  {
   "cell_type": "markdown",
   "metadata": {},
   "source": [
    "The 1$\\sigma$ value through statistics package and the std. deviation method are as follows:\n",
    "\n",
    "$$Std\\,Deviation\\,1\\sigma = 0.49899; \\quad Statistics\\,1\\sigma = 0.49625 $$\n",
    "\n",
    "These two are comparable, so going forward, I stick to the std deviation $\\sigma$ value for comparison"
   ]
  },
  {
   "cell_type": "markdown",
   "metadata": {},
   "source": [
    "## c) Bayesian Analysis"
   ]
  },
  {
   "cell_type": "code",
   "execution_count": 552,
   "metadata": {},
   "outputs": [],
   "source": [
    "#likelihood:\n",
    "def likelihood(m):\n",
    "    L=1.0\n",
    "    for i in range(4):\n",
    "        L *= np.exp(-1/2*(y[i] - m*x[i])**2/sig[i]**2) #Normalized with constant\n",
    "    return L /1.2247613813039187"
   ]
  },
  {
   "cell_type": "code",
   "execution_count": 553,
   "metadata": {},
   "outputs": [
    {
     "data": {
      "text/plain": [
       "0.1104993064792185"
      ]
     },
     "execution_count": 553,
     "metadata": {},
     "output_type": "execute_result"
    }
   ],
   "source": [
    "likelihood(3)"
   ]
  },
  {
   "cell_type": "code",
   "execution_count": 554,
   "metadata": {},
   "outputs": [
    {
     "data": {
      "text/plain": [
       "0.8164855744678765"
      ]
     },
     "execution_count": 554,
     "metadata": {},
     "output_type": "execute_result"
    }
   ],
   "source": [
    "likelihood(2)"
   ]
  },
  {
   "cell_type": "markdown",
   "metadata": {},
   "source": [
    "Using the integral of the Likelihood from [0,3] to find the normalization constant and returning $\\frac{L}{constant}$ in the Likelihood function"
   ]
  },
  {
   "cell_type": "code",
   "execution_count": 551,
   "metadata": {},
   "outputs": [
    {
     "data": {
      "text/plain": [
       "(1.2247613813039187, 1.3597582850236511e-14)"
      ]
     },
     "execution_count": 551,
     "metadata": {},
     "output_type": "execute_result"
    }
   ],
   "source": [
    "normalization = quad(lambda m: likelihood(m), 0, 3)\n",
    "normalization"
   ]
  },
  {
   "cell_type": "code",
   "execution_count": null,
   "metadata": {},
   "outputs": [],
   "source": [
    "POSTERIOR FROM LIKELIHOOD AND PRIOR"
   ]
  },
  {
   "cell_type": "code",
   "execution_count": 638,
   "metadata": {},
   "outputs": [],
   "source": [
    "m = np.arange(0, 3.1, 0.1) # m in [0,3]\n",
    "prior = 1 #Uniform prior over all m values\n",
    "posterior = np.array([likelihood(mi)* prior for mi in m]) "
   ]
  },
  {
   "cell_type": "code",
   "execution_count": 643,
   "metadata": {
    "scrolled": true
   },
   "outputs": [
    {
     "data": {
      "image/png": "[encoded data removed]",
      "text/plain": [
       "<Figure size 432x288 with 1 Axes>"
      ]
     },
     "metadata": {
      "needs_background": "light"
     },
     "output_type": "display_data"
    }
   ],
   "source": [
    "plt.plot(m, posterior)\n",
    "plt.show()"
   ]
  },
  {
   "cell_type": "code",
   "execution_count": 646,
   "metadata": {},
   "outputs": [
    {
     "data": {
      "text/plain": [
       "(2.0, 0.8164855744678765)"
      ]
     },
     "execution_count": 646,
     "metadata": {},
     "output_type": "execute_result"
    }
   ],
   "source": [
    "m[np.argmax(posterior)], np.max(posterior)"
   ]
  },
  {
   "cell_type": "code",
   "execution_count": 640,
   "metadata": {},
   "outputs": [],
   "source": [
    "def posterior_func(m):\n",
    "    return likelihood(m)* prior"
   ]
  },
  {
   "cell_type": "code",
   "execution_count": 641,
   "metadata": {},
   "outputs": [
    {
     "data": {
      "text/plain": [
       "(0.9999999999999998, 1.1102230246251565e-14)"
      ]
     },
     "execution_count": 641,
     "metadata": {},
     "output_type": "execute_result"
    }
   ],
   "source": [
    "result = quad(lambda m: posterior_func(m), 0, 3)\n",
    "result"
   ]
  },
  {
   "cell_type": "code",
   "execution_count": 642,
   "metadata": {
    "scrolled": true
   },
   "outputs": [
    {
     "data": {
      "text/plain": [
       "array([2.73900396e-04, 5.97506118e-04, 1.25233429e-03, 2.52189157e-03,\n",
       "       4.87933649e-03, 9.07033542e-03, 1.61999676e-02, 2.77992556e-02,\n",
       "       4.58332241e-02, 7.26032179e-02, 1.10499306e-01, 1.61581433e-01,\n",
       "       2.27013445e-01, 3.06436098e-01, 3.97426195e-01, 4.95223534e-01,\n",
       "       5.92890214e-01, 6.81986078e-01, 7.53711180e-01, 8.00318077e-01,\n",
       "       8.16485574e-01, 8.00318077e-01, 7.53711180e-01, 6.81986078e-01,\n",
       "       5.92890214e-01, 4.95223534e-01, 3.97426195e-01, 3.06436098e-01,\n",
       "       2.27013445e-01, 1.61581433e-01, 1.10499306e-01])"
      ]
     },
     "execution_count": 642,
     "metadata": {},
     "output_type": "execute_result"
    }
   ],
   "source": [
    "posterior"
   ]
  },
  {
   "cell_type": "code",
   "execution_count": 546,
   "metadata": {},
   "outputs": [
    {
     "data": {
      "text/plain": [
       "0.2868120890096675"
      ]
     },
     "execution_count": 546,
     "metadata": {},
     "output_type": "execute_result"
    }
   ],
   "source": [
    "np.std(posterior)"
   ]
  },
  {
   "cell_type": "markdown",
   "metadata": {},
   "source": [
    "<pre>\n",
    "68% credible interval:\n",
    "</pre>"
   ]
  },
  {
   "cell_type": "code",
   "execution_count": 651,
   "metadata": {},
   "outputs": [],
   "source": [
    "credible_interval_bay=[]\n",
    "credible_interval = 0.68\n",
    "\n",
    "total = 0\n",
    "for mi, prob in zip(m, posterior):\n",
    "    total += prob\n",
    "    if total < credible_interval:\n",
    "        credible_interval_bay.append((mi, prob))\n",
    "    else:\n",
    "        credible_interval_bay.append((mi, 0))"
   ]
  },
  {
   "cell_type": "code",
   "execution_count": 652,
   "metadata": {
    "scrolled": false
   },
   "outputs": [
    {
     "data": {
      "text/plain": [
       "[(0.0, 0.00027390039645548594),\n",
       " (0.1, 0.0005975061183766042),\n",
       " (0.2, 0.0012523342936331982),\n",
       " (0.30000000000000004, 0.002521891574461983),\n",
       " (0.4, 0.004879336486462107),\n",
       " (0.5, 0.009070335420288423),\n",
       " (0.6000000000000001, 0.01619996764042875),\n",
       " (0.7000000000000001, 0.02779925563814839),\n",
       " (0.8, 0.04583322408024569),\n",
       " (0.9, 0.07260321791393981),\n",
       " (1.0, 0.1104993064792185),\n",
       " (1.1, 0.16158143300773065),\n",
       " (1.2000000000000002, 0),\n",
       " (1.3, 0),\n",
       " (1.4000000000000001, 0),\n",
       " (1.5, 0),\n",
       " (1.6, 0),\n",
       " (1.7000000000000002, 0),\n",
       " (1.8, 0),\n",
       " (1.9000000000000001, 0),\n",
       " (2.0, 0),\n",
       " (2.1, 0),\n",
       " (2.2, 0),\n",
       " (2.3000000000000003, 0),\n",
       " (2.4000000000000004, 0),\n",
       " (2.5, 0),\n",
       " (2.6, 0),\n",
       " (2.7, 0),\n",
       " (2.8000000000000003, 0),\n",
       " (2.9000000000000004, 0),\n",
       " (3.0, 0)]"
      ]
     },
     "execution_count": 652,
     "metadata": {},
     "output_type": "execute_result"
    }
   ],
   "source": [
    "credible_interval_bay"
   ]
  },
  {
   "cell_type": "code",
   "execution_count": 657,
   "metadata": {},
   "outputs": [],
   "source": [
    "credible_interval_bay = np.array(credible_interval_bay)"
   ]
  },
  {
   "cell_type": "code",
   "execution_count": 659,
   "metadata": {},
   "outputs": [
    {
     "data": {
      "image/png": "[encoded data removed]",
      "text/plain": [
       "<Figure size 432x288 with 1 Axes>"
      ]
     },
     "metadata": {
      "needs_background": "light"
     },
     "output_type": "display_data"
    }
   ],
   "source": [
    "plt.plot(credible_interval_bay[:,0], credible_interval_bay[:,1])\n",
    "plt.show()"
   ]
  },
  {
   "cell_type": "code",
   "execution_count": 449,
   "metadata": {},
   "outputs": [
    {
     "name": "stdout",
     "output_type": "stream",
     "text": [
      "(1.711143902409741, 2.288856097590259)\n"
     ]
    }
   ],
   "source": [
    "confidence = 0.68\n",
    "h = stats.norm.interval(confidence, loc = 2.0, scale=statistics.stdev(posterior))\n",
    "print(h)"
   ]
  },
  {
   "cell_type": "code",
   "execution_count": null,
   "metadata": {},
   "outputs": [],
   "source": [
    "np.array([m,posterior])"
   ]
  },
  {
   "cell_type": "markdown",
   "metadata": {},
   "source": [
    "The upper 68% bound is found by integrating out from the peak m value to some point to include 34% of the area"
   ]
  },
  {
   "cell_type": "code",
   "execution_count": 510,
   "metadata": {},
   "outputs": [
    {
     "data": {
      "text/plain": [
       "(0.340002210410031, 3.774782824206635e-15)"
      ]
     },
     "execution_count": 510,
     "metadata": {},
     "output_type": "execute_result"
    }
   ],
   "source": [
    "up_interval_val=quad(lambda m: likelihood(m), 2,2.48156) #Likelihood instead of posterior since flat prior\n",
    "up_interval_val"
   ]
  },
  {
   "cell_type": "code",
   "execution_count": 511,
   "metadata": {},
   "outputs": [
    {
     "data": {
      "text/plain": [
       "1.51844"
      ]
     },
     "execution_count": 511,
     "metadata": {},
     "output_type": "execute_result"
    }
   ],
   "source": [
    "2-0.48156"
   ]
  },
  {
   "cell_type": "code",
   "execution_count": 512,
   "metadata": {},
   "outputs": [
    {
     "data": {
      "text/plain": [
       "(0.340002210410031, 3.774782824206635e-15)"
      ]
     },
     "execution_count": 512,
     "metadata": {},
     "output_type": "execute_result"
    }
   ],
   "source": [
    "down_interval_val=quad(lambda m: likelihood(m), 1.51844,2) #Likelihood instead of posterior since flat prior\n",
    "down_interval_val"
   ]
  },
  {
   "cell_type": "code",
   "execution_count": 513,
   "metadata": {},
   "outputs": [],
   "source": [
    "interval=(1.51844,2.48156)"
   ]
  },
  {
   "cell_type": "code",
   "execution_count": 514,
   "metadata": {},
   "outputs": [
    {
     "data": {
      "text/plain": [
       "(0.680004420820062, 7.54956564841327e-15)"
      ]
     },
     "execution_count": 514,
     "metadata": {},
     "output_type": "execute_result"
    }
   ],
   "source": [
    "conf = quad(lambda m: likelihood(m), 1.51844,2.48156)\n",
    "conf"
   ]
  },
  {
   "cell_type": "code",
   "execution_count": 664,
   "metadata": {
    "scrolled": true
   },
   "outputs": [
    {
     "data": {
      "text/plain": [
       "<matplotlib.collections.LineCollection at 0x7f79b1929ee0>"
      ]
     },
     "execution_count": 664,
     "metadata": {},
     "output_type": "execute_result"
    },
    {
     "data": {
      "image/png": "[encoded data removed]",
      "text/plain": [
       "<Figure size 432x288 with 1 Axes>"
      ]
     },
     "metadata": {
      "needs_background": "light"
     },
     "output_type": "display_data"
    }
   ],
   "source": [
    "m = np.arange(0, 3.1, 0.1)\n",
    "plt.plot(m, posterior)\n",
    "plt.vlines(interval, 0,0.8)"
   ]
  },
  {
   "cell_type": "code",
   "execution_count": 666,
   "metadata": {},
   "outputs": [
    {
     "data": {
      "text/plain": [
       "0.48156"
      ]
     },
     "execution_count": 666,
     "metadata": {},
     "output_type": "execute_result"
    }
   ],
   "source": [
    "round((interval[1]-interval[0])/2,5)"
   ]
  },
  {
   "cell_type": "markdown",
   "metadata": {},
   "source": [
    "<pre>WHEN CHANGING PRIOR, THE FOLLOWING HAPPENS"
   ]
  },
  {
   "cell_type": "code",
   "execution_count": null,
   "metadata": {},
   "outputs": [],
   "source": []
  }
 ],
 "metadata": {
  "kernelspec": {
   "display_name": "Python 3",
   "language": "python",
   "name": "python3"
  },
  "language_info": {
   "codemirror_mode": {
    "name": "ipython",
    "version": 3
   },
   "file_extension": ".py",
   "mimetype": "text/x-python",
   "name": "python",
   "nbconvert_exporter": "python",
   "pygments_lexer": "ipython3",
   "version": "3.8.2"
  }
 },
 "nbformat": 4,
 "nbformat_minor": 4
}
